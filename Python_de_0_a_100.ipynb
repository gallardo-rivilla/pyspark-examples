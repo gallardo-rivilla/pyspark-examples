{
  "nbformat": 4,
  "nbformat_minor": 0,
  "metadata": {
    "colab": {
      "name": "Python de 0 a 100.ipynb",
      "provenance": [],
      "toc_visible": true,
      "authorship_tag": "ABX9TyOV4t2/vM7KZGfw6e/wqShZ"
    },
    "kernelspec": {
      "name": "python3",
      "display_name": "Python 3"
    }
  },
  "cells": [
    {
      "cell_type": "markdown",
      "metadata": {
        "id": "00UbPZbDGsf6"
      },
      "source": [
        "# Manual de Python v 3.X\n",
        "*Creado por Alfonso L. Gallardo Rivilla*\n"
      ]
    },
    {
      "cell_type": "markdown",
      "metadata": {
        "id": "FBuRZxOOHCuq"
      },
      "source": [
        "## 1. Historia de Python\n",
        "\n",
        "**Todos los lenguajes de programación tienen un creador emblemático:**\n",
        "![texto alternativo](https://i.pinimg.com/originals/57/b0/54/57b05419a7929de0dda06eaa7259cb84.png)\n",
        "---\n",
        "\n",
        "1. A finales del año 1980, Guido Van Rosum trabajaba en los Paises Bajos para el CWI (Centrum voor Wiskunde en Informática), en el sistema operativo Amoeba.  \n",
        "2. La problemática a la que se enfrentaba era que las llamadas del sistema operativo eran difíciles de interconectar con Bourne Shell, que era la referencia de la época, y se utilizaba como interfaz de usuario.\n",
        "3.  En 1989 decide crear, en su tiempo libre, la primera versión del lenguaje Python.\n",
        "4. El nombre se le puso en honora los Monty Python, un grupo de música.\n",
        "5. La primera versión pública es la 0.9.0 publicada en un foro de Usenet en Febrero de 1991. \n",
        "\n",
        "![Historia Python](https://blog.simpliv.com/wp-content/uploads/2020/01/Image-13-1.jpg)"
      ]
    },
    {
      "cell_type": "markdown",
      "metadata": {
        "id": "K6P5XHxeJ2vA"
      },
      "source": [
        "## 2. Evolución de la licencia\n",
        "\n",
        "1.   En sus orígenes, Python los crea Guido Van Rossum, en su tiempo libre.\n",
        "2.   Se utiliza en su actividad profesional dentro de su equipo de trabajo.\n",
        "3.   La licencia evoluciona hacia una compatibilidad con la licencia GPL cuando se pasa de la versión 1.6 a la 1.6.1.\n",
        "4. Esta evolución es fruto de la intesa colaboración entre el CNRI y la Free Software Foundation.\n",
        "5. Recibe el nombre de Python Software Foundation Licence de la mano de Apache.\n",
        "\n"
      ]
    },
    {
      "cell_type": "markdown",
      "metadata": {
        "id": "o3qWBJzMMfpi"
      },
      "source": [
        "## 3. Características de Python\n",
        "\n",
        "1.   Interpretado\n",
        "2.   Multiparadigma\n",
        "3. Alto nivel\n",
        "4. Tipado dinámico fuerte\n",
        "5. Gestión automática de recursos\n",
        "6. Alto grado de introspección\n",
        "7. Gestión de excepciones\n",
        "8. Libre y gratuito\n",
        "\n"
      ]
    },
    {
      "cell_type": "markdown",
      "metadata": {
        "id": "S7EKK2muNVf9"
      },
      "source": [
        "## 4. El Zen de Python\n",
        "La filosofía puede resumirse por << El Zen de Python >>\n",
        "\n",
        "\n",
        "---\n",
        "\n",
        "\n",
        "*   Hermoso es mejor que feo\n",
        "* Explícito es mejor que implícito\n",
        "* Simple es mejor que complejo\n",
        "* Complejo es mejor que complicado\n",
        "* Plano es mejor que anidado\n",
        "* Disperso es mejor que lento\n",
        "* La legibilidad cuenta\n",
        "* Los caso especiales no son suficientemente especiales como para romper las reglas\n",
        "* Lo pragmático gana a la pureza\n",
        "* Los errores nunca deberían dejarse pasar silenciosamente, a menos que se silencien explicitamente.\n",
        "* Cuando te enfrentes a la ambiguedad, rechaza la tentación de adivinar\n",
        "* Ahora es mejor que nunca\n",
        "* Si la implementación es dificil de explicar, es una mala idea\n",
        "\n",
        "\n"
      ]
    },
    {
      "cell_type": "markdown",
      "metadata": {
        "id": "_qdBBpYTPfqh"
      },
      "source": [
        "# **1.Números**\n"
      ]
    },
    {
      "cell_type": "markdown",
      "metadata": {
        "id": "e7yc0VzfZZ4a"
      },
      "source": [
        "## Teoría\n",
        "\n",
        "Para comenzar lo más sencillo es trabajar con números vamos, por ello, vamos a realizar una serie de ejercicios básicos con números\n",
        "\n",
        "**¿Qué son los operadores aritméticos?**\n",
        "\n",
        "En programación y matemáticas, los operadores aritméticos son aquellos que manipulan los datos de tipo numérico, es decir, permiten la realización de operaciones matemáticas (sumas, restas, multiplicaciones, etc.).\n",
        "\n",
        "**Operadores aritméticos en Python**\n",
        "\n",
        "Suma  (+)\n",
        "\n",
        "Resta (-)\n",
        "\n",
        "Multiplicación (*)\n",
        "\n",
        "Potencia (**)\n",
        "\n",
        "División (cociente) (/)\n",
        "\n",
        "División (parte entera) (//)\n",
        "\n",
        "División (resto) (%)\n",
        "\n",
        "\n",
        "**Podemos distinguir 2 tipos de números:**\n",
        "\n",
        "1.   **Enteros**: Que no tienen una parte decimal y van desde menos infinito a más infinito.\n",
        "2.   **Flotantes o decimales**: Números que tienen una parte decimal escrita con un punto.\n",
        "\n",
        "**El orden de precedencia de ejecución de los operadores aritméticos es:**\n",
        "\n",
        "1. Exponente: **\n",
        "2. Negación: -\n",
        "3. Multiplicación, División, División entera, Módulo: *, /, //, %\n",
        "4. Suma, Resta: +, -\n",
        "\n",
        "**Variables**\n",
        "\n",
        "Este es el concepto más importante en la programación, así que asegúrate de entenderlo bien practicando mucho.\n",
        "\n",
        " **¡Importante!** \n",
        "\n",
        "\n",
        "*Python distingue entre mayúsculas y minúsculas*\n",
        "\n",
        "**Concepto fundamental**\n",
        "\n",
        "Una variable es un identificador que representa un espacio en la memoria. A este espacio se le puede asignar un valor para utilizarlo posteriormente como si se tratase de un valor literal, incluso se puede operar con otras variables y reasignarle otro valor en cualquier momento.\n",
        "\n",
        "Se puede utilizar comentarios con **#** para explicar lo que hace nuestro código:"
      ]
    },
    {
      "cell_type": "markdown",
      "metadata": {
        "id": "2Zy0mTp0UcWm"
      },
      "source": [
        "##  Ejercicios con números"
      ]
    },
    {
      "cell_type": "code",
      "metadata": {
        "id": "drn9HjkbPuZ_",
        "colab": {
          "base_uri": "https://localhost:8080/"
        },
        "outputId": "d5d987d3-6506-478d-f0c2-e92cdbfa9b74"
      },
      "source": [
        "# Ejemplo suma de dos números\n",
        "3 + 2"
      ],
      "execution_count": 1,
      "outputs": [
        {
          "output_type": "execute_result",
          "data": {
            "text/plain": [
              "5"
            ]
          },
          "metadata": {
            "tags": []
          },
          "execution_count": 1
        }
      ]
    },
    {
      "cell_type": "code",
      "metadata": {
        "id": "o_Q7W_8cQhIE",
        "colab": {
          "base_uri": "https://localhost:8080/"
        },
        "outputId": "36115b31-6143-4465-ba65-596969d8ba41"
      },
      "source": [
        "# Ejemplo resta de dos números\n",
        "4 - 1"
      ],
      "execution_count": 2,
      "outputs": [
        {
          "output_type": "execute_result",
          "data": {
            "text/plain": [
              "3"
            ]
          },
          "metadata": {
            "tags": []
          },
          "execution_count": 2
        }
      ]
    },
    {
      "cell_type": "code",
      "metadata": {
        "id": "1r3z4xrYQ0wt",
        "colab": {
          "base_uri": "https://localhost:8080/"
        },
        "outputId": "02bfe2c1-62f4-4f57-d0c3-5245c1d9b879"
      },
      "source": [
        "# Ejemplo multiplicación de dos números\n",
        "3 * 2"
      ],
      "execution_count": 3,
      "outputs": [
        {
          "output_type": "execute_result",
          "data": {
            "text/plain": [
              "6"
            ]
          },
          "metadata": {
            "tags": []
          },
          "execution_count": 3
        }
      ]
    },
    {
      "cell_type": "code",
      "metadata": {
        "id": "KGVxHIt9Q7G7",
        "colab": {
          "base_uri": "https://localhost:8080/"
        },
        "outputId": "d4b816f8-d0ba-4235-8ab2-20ea87b8aca2"
      },
      "source": [
        "# Ejemplo división de dos números\n",
        "3 / 2"
      ],
      "execution_count": 4,
      "outputs": [
        {
          "output_type": "execute_result",
          "data": {
            "text/plain": [
              "1.5"
            ]
          },
          "metadata": {
            "tags": []
          },
          "execution_count": 4
        }
      ]
    },
    {
      "cell_type": "code",
      "metadata": {
        "colab": {
          "base_uri": "https://localhost:8080/"
        },
        "id": "ey77pvj3Vi6u",
        "outputId": "a236324b-126b-4abc-9202-1a8ff88bf4fc"
      },
      "source": [
        "# División sin resto, elimina los decimales\r\n",
        "3 // 2"
      ],
      "execution_count": 8,
      "outputs": [
        {
          "output_type": "execute_result",
          "data": {
            "text/plain": [
              "1"
            ]
          },
          "metadata": {
            "tags": []
          },
          "execution_count": 8
        }
      ]
    },
    {
      "cell_type": "code",
      "metadata": {
        "colab": {
          "base_uri": "https://localhost:8080/"
        },
        "id": "ODjun_qnVuEK",
        "outputId": "8b539787-448a-420b-8a3c-70064ddad9c7"
      },
      "source": [
        "# El resto de la división\r\n",
        "3 % 2"
      ],
      "execution_count": 9,
      "outputs": [
        {
          "output_type": "execute_result",
          "data": {
            "text/plain": [
              "1"
            ]
          },
          "metadata": {
            "tags": []
          },
          "execution_count": 9
        }
      ]
    },
    {
      "cell_type": "code",
      "metadata": {
        "id": "ewNEb38uT8G4",
        "colab": {
          "base_uri": "https://localhost:8080/"
        },
        "outputId": "17aa7394-9cc1-4c3d-960b-45643aab991e"
      },
      "source": [
        "# Ejemplo de exponente\n",
        "2 ** 6"
      ],
      "execution_count": 5,
      "outputs": [
        {
          "output_type": "execute_result",
          "data": {
            "text/plain": [
              "64"
            ]
          },
          "metadata": {
            "tags": []
          },
          "execution_count": 5
        }
      ]
    },
    {
      "cell_type": "code",
      "metadata": {
        "id": "rdWUrgsZRBwq",
        "colab": {
          "base_uri": "https://localhost:8080/"
        },
        "outputId": "0834f1e1-161e-4dd9-a110-93e707b04970"
      },
      "source": [
        "# Ejemplo de operación usando variables\n",
        "n = 3\n",
        "resultado = n + 5\n",
        "resultado"
      ],
      "execution_count": 6,
      "outputs": [
        {
          "output_type": "execute_result",
          "data": {
            "text/plain": [
              "8"
            ]
          },
          "metadata": {
            "tags": []
          },
          "execution_count": 6
        }
      ]
    },
    {
      "cell_type": "code",
      "metadata": {
        "id": "Q9sMGgWWTi0u",
        "colab": {
          "base_uri": "https://localhost:8080/"
        },
        "outputId": "36df5bfd-ca67-433b-bdd9-2c8399b34c40"
      },
      "source": [
        "# Ejemplo de operación con prioridad de orden de precedencia\n",
        "nota_1 = 2\n",
        "nota_2 = 5\n",
        "nota_media = (nota_1 + nota_2) / 2 # Establecemos paréntesis para que se realice la suma y después la división\n",
        "nota_media"
      ],
      "execution_count": 7,
      "outputs": [
        {
          "output_type": "execute_result",
          "data": {
            "text/plain": [
              "3.5"
            ]
          },
          "metadata": {
            "tags": []
          },
          "execution_count": 7
        }
      ]
    },
    {
      "cell_type": "markdown",
      "metadata": {
        "id": "08_vGB_LVM0a"
      },
      "source": [
        "## Programas ejercicios con números"
      ]
    },
    {
      "cell_type": "code",
      "metadata": {
        "id": "kT1ftjE4VYjm",
        "colab": {
          "base_uri": "https://localhost:8080/",
          "height": 121
        },
        "outputId": "0fdc94fd-22c5-43b3-ee06-239336b33b2d"
      },
      "source": [
        "# Programa que solicita 2 numeros y los suma\n",
        "print (\"Dime un numero\")\n",
        "primerNumero = int(input())\n",
        "print (\"Dime otro numero\")\n",
        "segundoNumero = int(input())\n",
        "print (\"Su suma es\")\n",
        "print (primerNumero + segundoNumero)"
      ],
      "execution_count": null,
      "outputs": [
        {
          "output_type": "stream",
          "text": [
            "Dime un numero\n",
            "5\n",
            "Dime otro numero\n",
            "10\n",
            "Su suma es\n",
            "15\n"
          ],
          "name": "stdout"
        }
      ]
    },
    {
      "cell_type": "code",
      "metadata": {
        "id": "8N-ODiGKWKYb",
        "colab": {
          "base_uri": "https://localhost:8080/",
          "height": 87
        },
        "outputId": "85959d83-0f0c-459a-ee6b-ef70cb25a57e"
      },
      "source": [
        "# Programa que calcula la Longitud de la circunferencia\n",
        "print(\"Dime el radio\")\n",
        "radio = int(input())  # Podemos usar float() si queremos decimales\n",
        "pi = 3.14\n",
        "longitud = 2 * pi * radio\n",
        "print (\"Longitud de la circunferencia:\")\n",
        "print (longitud)"
      ],
      "execution_count": null,
      "outputs": [
        {
          "output_type": "stream",
          "text": [
            "Dime el radio\n",
            "5\n",
            "Longitud de la circunferencia:\n",
            "31.400000000000002\n"
          ],
          "name": "stdout"
        }
      ]
    },
    {
      "cell_type": "code",
      "metadata": {
        "id": "g6mdOUDdWf0o",
        "colab": {
          "base_uri": "https://localhost:8080/",
          "height": 69
        },
        "outputId": "2ef46f1a-4235-4acc-abee-140c52d31098"
      },
      "source": [
        "# Programa que calcula la raiz cuadrada de un numero\n",
        "import math # Importamos libreria \n",
        "print(\"Dime un número\")\n",
        "n = float(input())\n",
        "print (\"Su raíz es {}\".format( math.sqrt(n) )) # Más adelante veremos esta línea"
      ],
      "execution_count": null,
      "outputs": [
        {
          "output_type": "stream",
          "text": [
            "Dime un número\n",
            "2\n",
            "Su raíz es 1.4142135623730951\n"
          ],
          "name": "stdout"
        }
      ]
    },
    {
      "cell_type": "code",
      "metadata": {
        "id": "mnFbEXjLYvNw",
        "colab": {
          "base_uri": "https://localhost:8080/",
          "height": 35
        },
        "outputId": "25a8fb42-557b-4898-f285-66ff01b21194"
      },
      "source": [
        "# Programa que calcula la media de 3 numeros enteros\n",
        "numero_1 = 9\n",
        "numero_2 = 3\n",
        "numero_3 = 6\n",
        "\n",
        "# Hay que realizar primero la suma de los 3 números antes de dividir\n",
        "media = (numero_1 + numero_2 + numero_3) / 3  \n",
        "print(\"La nota media es\", media)"
      ],
      "execution_count": null,
      "outputs": [
        {
          "output_type": "stream",
          "text": [
            "La nota media es 6.0\n"
          ],
          "name": "stdout"
        }
      ]
    },
    {
      "cell_type": "code",
      "metadata": {
        "id": "CcWcC8_trs8E",
        "colab": {
          "base_uri": "https://localhost:8080/",
          "height": 121
        },
        "outputId": "29b92b02-a34e-4325-9a3f-0c66b02390a2"
      },
      "source": [
        "# Programa calculo del IMC\n",
        "def main():\n",
        "    print(\"CÁLCULO DEL ÍNDICE DE MASA CORPORAL (IMC)\")\n",
        "    peso = float(input(\"¿Cuánto pesa? \"))\n",
        "    altura = float(input(\"¿Cuánto mide en metros? \"))\n",
        "\n",
        "    imc = peso / altura ** 2\n",
        "\n",
        "    print(f\"Su imc es {round(imc, 1)}\")\n",
        "    print(\n",
        "        \"Un ímc muy alto indica obesidad. Los valores normales de imc están entre 20 y 25,\"\n",
        "    )\n",
        "    print(\n",
        "        \"pero esos límites dependen de la edad, del sexo, de la constitución física, etc.\"\n",
        "    )\n",
        "\n",
        "\n",
        "if __name__ == \"__main__\":\n",
        "    main()"
      ],
      "execution_count": null,
      "outputs": [
        {
          "output_type": "stream",
          "text": [
            "CÁLCULO DEL ÍNDICE DE MASA CORPORAL (IMC)\n",
            "¿Cuánto pesa? 80\n",
            "¿Cuánto mide en metros? 1.90\n",
            "Su imc es 22.2\n",
            "Un ímc muy alto indica obesidad. Los valores normales de imc están entre 20 y 25,\n",
            "pero esos límites dependen de la edad, del sexo, de la constitución física, etc.\n"
          ],
          "name": "stdout"
        }
      ]
    },
    {
      "cell_type": "code",
      "metadata": {
        "colab": {
          "base_uri": "https://localhost:8080/"
        },
        "id": "LLvTtG1zWUyU",
        "outputId": "4f81170c-1bfd-430f-b614-b6ccfa19fb9e"
      },
      "source": [
        "# Programa que dado un numero de caramelos y un numero de niños, diga a cúantos caramelos toca cada niño y cántos caramelos sobran.\r\n",
        "\r\n",
        "niños = int(input(\"¿Cúantos niños hay?\"))\r\n",
        "caramelos =int(input(\"¿Cúantos caramelos hay?\"))\r\n",
        "\r\n",
        "print (\"Repartir\", caramelos, \"Caramelos entre\",niños,\"niños.\")\r\n",
        "print(\"A cada niño le tocan\",caramelos // niños,\"caramelos.\")\r\n",
        "print(\"Sobran\", caramelos % niños,\"caramelos.\")"
      ],
      "execution_count": 10,
      "outputs": [
        {
          "output_type": "stream",
          "text": [
            "¿Cúantos niños hay?10\n",
            "¿Cúantos caramelos hay?11\n",
            "Repartir 11 Caramelos entre 10 niños.\n",
            "A cada niño le tocan 1 caramelos.\n",
            "Sobran 1 caramelos.\n"
          ],
          "name": "stdout"
        }
      ]
    },
    {
      "cell_type": "code",
      "metadata": {
        "colab": {
          "base_uri": "https://localhost:8080/"
        },
        "id": "qcjlSvzOXKn2",
        "outputId": "e8c431b4-929a-44c1-baaa-7488e24c897e"
      },
      "source": [
        "# Programa que transforma un tiempo dado en segundos en sus horas, minutos y segundos correspondientes\r\n",
        "# Introducir el dato 174452 segundos, dando como resultado: 48 horas 27 minutos y 32 segundos.\r\n",
        "\r\n",
        "segundos = int(input(\"Dime el tiempo en segundos:\"))\r\n",
        "\r\n",
        "minutos = segundos // 60 #Pasamos los segundos a minutos\r\n",
        "segundos_resto = segundos % 60 #Segundos que sobran\r\n",
        "\r\n",
        "horas = minutos // 60 #Pasamos los minutos a horas\r\n",
        "minutos_resto = minutos % 60 #Minutos que sobran\r\n",
        "\r\n",
        "print (\"Tiempo\",horas,\"h,\",minutos_resto,\"m,\",segundos_resto,\"s\")\r\n"
      ],
      "execution_count": 11,
      "outputs": [
        {
          "output_type": "stream",
          "text": [
            "Dime el tiempo en segundos:174452\n",
            "Tiempo 48 h, 27 m, 32 s\n"
          ],
          "name": "stdout"
        }
      ]
    },
    {
      "cell_type": "code",
      "metadata": {
        "colab": {
          "base_uri": "https://localhost:8080/"
        },
        "id": "B9PLAHWCYoHJ",
        "outputId": "67c198b6-35d5-4ef4-e465-56699e790477"
      },
      "source": [
        "# Programa que comprueba si un número dado es par o impar (múltiplo de 2)\r\n",
        "\r\n",
        "num = int(input(\"Dime un número:\"))\r\n",
        "\r\n",
        "if num % 2 == 0:\r\n",
        "  print (\"El numero es par\",num,\"es par.\")\r\n",
        "else:\r\n",
        "  print(\"El numero es impar\",num,\"es impar.\")\r\n"
      ],
      "execution_count": 13,
      "outputs": [
        {
          "output_type": "stream",
          "text": [
            "Dime un número:11\n",
            "El numero es impar 11 es impar.\n"
          ],
          "name": "stdout"
        }
      ]
    },
    {
      "cell_type": "code",
      "metadata": {
        "colab": {
          "base_uri": "https://localhost:8080/"
        },
        "id": "BeJ37eI-ajXN",
        "outputId": "a9a65e79-01cd-42f9-e646-976983371c2d"
      },
      "source": [
        "#Programa que comprueba si un número es múltiplo de 3, de 5 o de los dos.\r\n",
        "\r\n",
        "num = int(input(\"Dime un número entero:\"))\r\n",
        "\r\n",
        "if num % 3 == 0 and num % 5 == 0:\r\n",
        "  print(\"Es múltiplo de 3 y de 5\")\r\n",
        "elif num % 3 == 0:\r\n",
        "  print(\"Es múltiplo de 3\")\r\n",
        "elif num % 5 == 0:\r\n",
        "  print(\"Es múltiplo de 5\")\r\n",
        "else:\r\n",
        "  print(\"No es múltiplo de 3 ni de 5.\")"
      ],
      "execution_count": 14,
      "outputs": [
        {
          "output_type": "stream",
          "text": [
            "Dime un número entero:15\n",
            "Es múltiplo de 3 y de 5\n"
          ],
          "name": "stdout"
        }
      ]
    },
    {
      "cell_type": "code",
      "metadata": {
        "colab": {
          "base_uri": "https://localhost:8080/"
        },
        "id": "iPTwDs2Lbqby",
        "outputId": "c71260e7-1dc3-42d3-ca89-9f4af8c299a2"
      },
      "source": [
        "#Programa que dados 3 números encuentra cuál es el mayor de los tres\r\n",
        "\r\n",
        "n1 = int(input(\"Dime un número:\"))\r\n",
        "n2 = int(input(\"Dime otro número:\"))\r\n",
        "n3 = int(input(\"Dime un tercero:\"))\r\n",
        "\r\n",
        "if (n1 > n2) and (n1>n3):\r\n",
        "  print(\"El número\",n1, \"es el mayor.\")\r\n",
        "elif (n2 >n3):\r\n",
        "  print(\"El número\",n2,\"es el mayor.\")\r\n",
        "else:\r\n",
        "  print(\"El número\",n3, \"es el mayor.\")\r\n"
      ],
      "execution_count": 17,
      "outputs": [
        {
          "output_type": "stream",
          "text": [
            "Dime un número:10\n",
            "Dime otro número:2\n",
            "Dime un tercero:1\n",
            "El número 10 es el mayor.\n"
          ],
          "name": "stdout"
        }
      ]
    },
    {
      "cell_type": "markdown",
      "metadata": {
        "id": "awjgGkcdZyzn"
      },
      "source": [
        "# 2.**Cadenas de caracteres o texto**"
      ]
    },
    {
      "cell_type": "markdown",
      "metadata": {
        "id": "8FMabMwjZ2bF"
      },
      "source": [
        "## Teoría\n",
        "\n",
        "* Las cadenas de caracteres, son secuencias inmutables que contienen caracteres encerrado entre comillas.\n",
        "\n",
        "* Son caracteres encerrados entre comillas simples (') o dobles (\").\n",
        "\n",
        "* La función print() muestra por pantalla el contenido de la cadena, pero no las comillas delimitadoras de las cadenas.\n",
        "* Las comillas triples permiten que las cadenas ocupen más de una línea.\n",
        "* Se pueden escribir comillas simples en cadenas delimitadas con comillas dobles y viceversa\n",
        "* Caracteres especiales: Los caracteres especiales empiezan por una contrabarra (\\)\n",
        "* Cadenas \"f\": En Python 3.6 se añadió una cadena \"f\" que contiene variables y expresiones entre llaves ({}) que se sustituyen directamente por su valor.\n",
        "\n",
        "**Índices en las cadenas**\n",
        "\n",
        "* Los índices nos permiten posicionarnos en un carácter específico de una cadena.\n",
        "\n",
        "* Representan un número [índice], que empezando por el 0 indica el carácter de la primera posición, y así sucesivamente\n",
        "\n",
        "\n",
        "**Slicing en las cadenas**\n",
        "\n",
        "* El slicing es una capacidad de las cadenas que devuelve un subconjunto o subcadena utilizando dos índices [inicio:fin]:\n",
        "\n",
        "* El primer índice indica donde empieza la subcadena (se incluye el carácter).\n",
        "El segundo índice indica donde acaba la subcadena (se excluye el carácter)."
      ]
    },
    {
      "cell_type": "markdown",
      "metadata": {
        "id": "JHtjHIXIbcIB"
      },
      "source": [
        "## Ejercicios con caracteres"
      ]
    },
    {
      "cell_type": "code",
      "metadata": {
        "id": "ydAO24B1beU0",
        "colab": {
          "base_uri": "https://localhost:8080/",
          "height": 35
        },
        "outputId": "29c79406-c1fd-4f4b-b669-e10e2822593a"
      },
      "source": [
        "# Caracteres con comillas simples\n",
        "'Hola Mundo'"
      ],
      "execution_count": null,
      "outputs": [
        {
          "output_type": "execute_result",
          "data": {
            "application/vnd.google.colaboratory.intrinsic": {
              "type": "string"
            },
            "text/plain": [
              "'Hola Mundo'"
            ]
          },
          "metadata": {
            "tags": []
          },
          "execution_count": 22
        }
      ]
    },
    {
      "cell_type": "code",
      "metadata": {
        "id": "SQz3-fxpbluK",
        "colab": {
          "base_uri": "https://localhost:8080/",
          "height": 35
        },
        "outputId": "d2e86b23-3048-434d-f06d-ea3d00e4eb9c"
      },
      "source": [
        "# Caracteres con comillas dobles\n",
        "\"Hola Mundo\""
      ],
      "execution_count": null,
      "outputs": [
        {
          "output_type": "execute_result",
          "data": {
            "application/vnd.google.colaboratory.intrinsic": {
              "type": "string"
            },
            "text/plain": [
              "'Hola Mundo'"
            ]
          },
          "metadata": {
            "tags": []
          },
          "execution_count": 23
        }
      ]
    },
    {
      "cell_type": "code",
      "metadata": {
        "id": "MO4sy5Gib9r2",
        "colab": {
          "base_uri": "https://localhost:8080/",
          "height": 35
        },
        "outputId": "c5791396-0d25-4048-bd30-f198787dfa09"
      },
      "source": [
        "# Ejemplo comillas simples dentro de comillas dobles\n",
        "\"Esta 'palabra' se encuentra escrita entre comillas simples\""
      ],
      "execution_count": null,
      "outputs": [
        {
          "output_type": "execute_result",
          "data": {
            "application/vnd.google.colaboratory.intrinsic": {
              "type": "string"
            },
            "text/plain": [
              "\"Esta 'palabra' se encuentra escrita entre comillas simples\""
            ]
          },
          "metadata": {
            "tags": []
          },
          "execution_count": 25
        }
      ]
    },
    {
      "cell_type": "code",
      "metadata": {
        "id": "PYgBO_z9cZ_f",
        "colab": {
          "base_uri": "https://localhost:8080/",
          "height": 69
        },
        "outputId": "3910867c-08a2-4352-dfc8-b56b9a14bf15"
      },
      "source": [
        "# Podemos utilizar \"\"\" (triple comillas) para cadenas multilínea:\n",
        "print(\"\"\"Una línea\n",
        "otra línea\n",
        "otra línea \\t una tabulación\"\"\")"
      ],
      "execution_count": null,
      "outputs": [
        {
          "output_type": "stream",
          "text": [
            "Una línea\n",
            "otra línea\n",
            "otra línea \t una tabulación\n"
          ],
          "name": "stdout"
        }
      ]
    },
    {
      "cell_type": "code",
      "metadata": {
        "id": "zRZRmFQ6bqvP",
        "colab": {
          "base_uri": "https://localhost:8080/",
          "height": 52
        },
        "outputId": "a075dd36-4831-4dbe-b379-716db288c6b3"
      },
      "source": [
        "# Imprimir con la función print() que no muestra comillas.\n",
        "print ('Hola Mundo')\n",
        "print (\"Hola Mundo\")"
      ],
      "execution_count": null,
      "outputs": [
        {
          "output_type": "stream",
          "text": [
            "Hola Mundo\n",
            "Hola Mundo\n"
          ],
          "name": "stdout"
        }
      ]
    },
    {
      "cell_type": "code",
      "metadata": {
        "id": "MtJhrHDRcKT3",
        "colab": {
          "base_uri": "https://localhost:8080/",
          "height": 52
        },
        "outputId": "3be57d15-7cf0-4b01-f689-99dc8f451900"
      },
      "source": [
        "# Salto de linea con la función print() usando \\n\n",
        "print(\"Un texto\\n una nueva línea\")"
      ],
      "execution_count": null,
      "outputs": [
        {
          "output_type": "stream",
          "text": [
            "Un texto\n",
            " una nueva línea\n"
          ],
          "name": "stdout"
        }
      ]
    },
    {
      "cell_type": "code",
      "metadata": {
        "id": "SoaOFNhvoHke",
        "colab": {
          "base_uri": "https://localhost:8080/",
          "height": 35
        },
        "outputId": "b19bfb97-b6f0-4bfe-d9e2-d71f3bbd88d3"
      },
      "source": [
        "# Operaciones usando variables con cadenas de caracteres\n",
        "c = \"Esto es una cadena \\n con dos líneas\"\n",
        "c + c"
      ],
      "execution_count": null,
      "outputs": [
        {
          "output_type": "execute_result",
          "data": {
            "application/vnd.google.colaboratory.intrinsic": {
              "type": "string"
            },
            "text/plain": [
              "'Esto es una cadena \\n con dos líneasEsto es una cadena \\n con dos líneas'"
            ]
          },
          "metadata": {
            "tags": []
          },
          "execution_count": 31
        }
      ]
    },
    {
      "cell_type": "code",
      "metadata": {
        "id": "-1UwCwP1oWu_",
        "colab": {
          "base_uri": "https://localhost:8080/",
          "height": 69
        },
        "outputId": "7ebd69f1-0ade-470c-c199-794d6c5f4d41"
      },
      "source": [
        "# Operación usando print () y variables\n",
        "c = \"Esto es una cadena \\n con dos líneas\"\n",
        "print(c+c)"
      ],
      "execution_count": null,
      "outputs": [
        {
          "output_type": "stream",
          "text": [
            "Esto es una cadena \n",
            " con dos líneasEsto es una cadena \n",
            " con dos líneas\n"
          ],
          "name": "stdout"
        }
      ]
    },
    {
      "cell_type": "code",
      "metadata": {
        "id": "4fdboq5Qq9zH",
        "colab": {
          "base_uri": "https://localhost:8080/",
          "height": 35
        },
        "outputId": "b6d67315-719f-4ba6-accc-0d01385b6b30"
      },
      "source": [
        "# Multiplicar cadenas de caracteres\n",
        "palabra1 = 'Hola ' * 3\n",
        "palabra2 = 'Mundo'\n",
        "print(palabra1 + palabra2)"
      ],
      "execution_count": null,
      "outputs": [
        {
          "output_type": "stream",
          "text": [
            "Hola Hola Hola Mundo\n"
          ],
          "name": "stdout"
        }
      ]
    },
    {
      "cell_type": "code",
      "metadata": {
        "id": "JWro-1vnoyTB",
        "colab": {
          "base_uri": "https://localhost:8080/",
          "height": 35
        },
        "outputId": "86a66fd3-b976-4932-8b33-bdcfedb9eae5"
      },
      "source": [
        "# Imprimir primer caracter\n",
        "palabra = \"Python\"\n",
        "palabra[0] # carácter en la posición 0"
      ],
      "execution_count": null,
      "outputs": [
        {
          "output_type": "execute_result",
          "data": {
            "application/vnd.google.colaboratory.intrinsic": {
              "type": "string"
            },
            "text/plain": [
              "'P'"
            ]
          },
          "metadata": {
            "tags": []
          },
          "execution_count": 34
        }
      ]
    },
    {
      "cell_type": "code",
      "metadata": {
        "id": "dud_Z3crpAE-",
        "colab": {
          "base_uri": "https://localhost:8080/",
          "height": 35
        },
        "outputId": "4fae9628-c52b-4901-8be5-6a897866f7e8"
      },
      "source": [
        "# Imprimir último caracter El índice negativo -1, hace referencia al carácter de la última posición, el -2 al penúltimo y así sucesivamente:\n",
        "palabra = \"Python\"\n",
        "palabra[-1] # carácter en la posición 0"
      ],
      "execution_count": null,
      "outputs": [
        {
          "output_type": "execute_result",
          "data": {
            "application/vnd.google.colaboratory.intrinsic": {
              "type": "string"
            },
            "text/plain": [
              "'n'"
            ]
          },
          "metadata": {
            "tags": []
          },
          "execution_count": 36
        }
      ]
    },
    {
      "cell_type": "code",
      "metadata": {
        "id": "7at0Ci1ipY0J",
        "colab": {
          "base_uri": "https://localhost:8080/",
          "height": 35
        },
        "outputId": "5715275a-8cf7-40f3-af78-4bb8fae89a8b"
      },
      "source": [
        "# Ejemplo de Slicing imprimir 2 primeras letras\n",
        "palabra = \"Python\"\n",
        "palabra[0:2] # El 0 se incluye, El 2 se excluye."
      ],
      "execution_count": null,
      "outputs": [
        {
          "output_type": "execute_result",
          "data": {
            "application/vnd.google.colaboratory.intrinsic": {
              "type": "string"
            },
            "text/plain": [
              "'Py'"
            ]
          },
          "metadata": {
            "tags": []
          },
          "execution_count": 37
        }
      ]
    },
    {
      "cell_type": "code",
      "metadata": {
        "id": "pTIHcxh0pqNL",
        "colab": {
          "base_uri": "https://localhost:8080/",
          "height": 35
        },
        "outputId": "42dd9488-a722-4597-bdeb-af893c09fac7"
      },
      "source": [
        "# Ejemplo de Slicing imprimir desde la segunda letra incluida\n",
        "palabra = \"Coche\"\n",
        "palabra[2:]"
      ],
      "execution_count": null,
      "outputs": [
        {
          "output_type": "execute_result",
          "data": {
            "application/vnd.google.colaboratory.intrinsic": {
              "type": "string"
            },
            "text/plain": [
              "'che'"
            ]
          },
          "metadata": {
            "tags": []
          },
          "execution_count": 40
        }
      ]
    },
    {
      "cell_type": "code",
      "metadata": {
        "id": "7XFcTS9qqF7E",
        "colab": {
          "base_uri": "https://localhost:8080/",
          "height": 35
        },
        "outputId": "d00ce6e3-6c9a-4013-ee2f-dd86270f9c4e"
      },
      "source": [
        "# Operaciones con slicing de cadenas\n",
        "palabra = \"Aprendiendo Python\"\n",
        "palabra[:2] + palabra[2:]"
      ],
      "execution_count": null,
      "outputs": [
        {
          "output_type": "execute_result",
          "data": {
            "application/vnd.google.colaboratory.intrinsic": {
              "type": "string"
            },
            "text/plain": [
              "'Aprendiendo Python'"
            ]
          },
          "metadata": {
            "tags": []
          },
          "execution_count": 41
        }
      ]
    },
    {
      "cell_type": "code",
      "metadata": {
        "id": "6Gqj3CVxqa5O",
        "colab": {
          "base_uri": "https://localhost:8080/",
          "height": 35
        },
        "outputId": "1c9ed234-9333-4a1c-d7d0-8fb86528426b"
      },
      "source": [
        "# Modificar cadenas con Slicing.  Una propiedad de las cadenas es que no se puede modificar su contenido\n",
        "palabra = \"Python\"\n",
        "palabra = \"N\" + palabra[1:]\n",
        "palabra"
      ],
      "execution_count": null,
      "outputs": [
        {
          "output_type": "execute_result",
          "data": {
            "application/vnd.google.colaboratory.intrinsic": {
              "type": "string"
            },
            "text/plain": [
              "'Nython'"
            ]
          },
          "metadata": {
            "tags": []
          },
          "execution_count": 42
        }
      ]
    },
    {
      "cell_type": "code",
      "metadata": {
        "id": "dH3MRWhBqoEF",
        "colab": {
          "base_uri": "https://localhost:8080/",
          "height": 35
        },
        "outputId": "287cce15-f8f7-4a7c-a8fc-fd343c0d1331"
      },
      "source": [
        "# Un ejemplo de función útil que soportan las cadenas es len(), que nos permite saber su longitud (el número de caracteres que contienen):\n",
        "palabra = \"Python\"\n",
        "len(palabra)"
      ],
      "execution_count": null,
      "outputs": [
        {
          "output_type": "execute_result",
          "data": {
            "text/plain": [
              "6"
            ]
          },
          "metadata": {
            "tags": []
          },
          "execution_count": 43
        }
      ]
    },
    {
      "cell_type": "code",
      "metadata": {
        "id": "nXiHEQi3rGob",
        "colab": {
          "base_uri": "https://localhost:8080/",
          "height": 35
        },
        "outputId": "9fd76842-9ec1-4e02-e1ea-47277c3fce1e"
      },
      "source": [
        "# Puedes buscar una sub-cadena en una cadena de caracteres utilizando el método find y tu programa te indicará el índice de inicio de la misma\n",
        "palabra = \"Hola Mundo\"\n",
        "encontrada = palabra.find(\"Mundo\")\n",
        "print(encontrada)"
      ],
      "execution_count": null,
      "outputs": [
        {
          "output_type": "stream",
          "text": [
            "5\n"
          ],
          "name": "stdout"
        }
      ]
    },
    {
      "cell_type": "code",
      "metadata": {
        "id": "Bgh9B4JtraIV",
        "colab": {
          "base_uri": "https://localhost:8080/",
          "height": 35
        },
        "outputId": "d79b427e-36bb-4f85-c9c6-78fd87c1ea9a"
      },
      "source": [
        "# Ejemplo convertir una cadena de caracteres a minúsculas. Convertir las minúsculas en mayúsculas se logra cambiando .lower() por upper().\n",
        "palabra = \"Ya se MUCHO de PYTHON\"\n",
        "encontrada = palabra.lower()\n",
        "print(encontrada)"
      ],
      "execution_count": null,
      "outputs": [
        {
          "output_type": "stream",
          "text": [
            "ya se mucho de python\n"
          ],
          "name": "stdout"
        }
      ]
    },
    {
      "cell_type": "code",
      "metadata": {
        "id": "tF2iLn2PL9wL",
        "colab": {
          "base_uri": "https://localhost:8080/",
          "height": 35
        },
        "outputId": "f478c529-0d11-47ab-e9cf-fa4a99e57e3a"
      },
      "source": [
        "# capitalize() retorna la cadena con su primera letra en mayúscula.\n",
        "palabra = \"estoy aprendiendo mucho\"\n",
        "encontrada = palabra.capitalize()\n",
        "print(encontrada)"
      ],
      "execution_count": null,
      "outputs": [
        {
          "output_type": "stream",
          "text": [
            "Estoy aprendiendo mucho\n"
          ],
          "name": "stdout"
        }
      ]
    },
    {
      "cell_type": "code",
      "metadata": {
        "id": "EH1bNoDnMSCu",
        "colab": {
          "base_uri": "https://localhost:8080/",
          "height": 35
        },
        "outputId": "f8213315-77f9-451c-eb08-0c4311e60198"
      },
      "source": [
        "# swapcase(), por su parte, cambia las mayúsculas por minúsculas y viceversa.\n",
        "palabra = \"Ya se MUCHO de PYTHON\"\n",
        "encontrada = palabra.swapcase()\n",
        "print(encontrada)"
      ],
      "execution_count": null,
      "outputs": [
        {
          "output_type": "stream",
          "text": [
            "yA SE mucho DE python\n"
          ],
          "name": "stdout"
        }
      ]
    },
    {
      "cell_type": "code",
      "metadata": {
        "id": "-G72gDhLrucT",
        "colab": {
          "base_uri": "https://localhost:8080/",
          "height": 35
        },
        "outputId": "2c86e7e3-991a-44d7-faeb-8ac90fcb782c"
      },
      "source": [
        "# Ejemplo cambiar una sub-cadena de una cadena se puede utilizar el método replace.\n",
        "palabra = \"Soy un dummy en python\"\n",
        "cambiar = palabra.replace(\"dummy\",\"experto\")\n",
        "print(cambiar)"
      ],
      "execution_count": null,
      "outputs": [
        {
          "output_type": "stream",
          "text": [
            "Soy un experto en python\n"
          ],
          "name": "stdout"
        }
      ]
    },
    {
      "cell_type": "code",
      "metadata": {
        "id": "ceyk_WeCLY7V",
        "colab": {
          "base_uri": "https://localhost:8080/",
          "height": 35
        },
        "outputId": "5e41881b-497d-440c-f4a2-a81703e90baf"
      },
      "source": [
        "# startswith() y endswith() indican si la cadena en cuestión comienza o termina con el conjunto de caracteres pasados como argumento, y retornan True o False en función de ello.\n",
        "palabra = \"Cada vez se más de Python\"\n",
        "descubrir = palabra.startswith(\"Cada\")\n",
        "print (descubrir)"
      ],
      "execution_count": null,
      "outputs": [
        {
          "output_type": "stream",
          "text": [
            "True\n"
          ],
          "name": "stdout"
        }
      ]
    },
    {
      "cell_type": "code",
      "metadata": {
        "id": "xJoRoPUKMmKS",
        "colab": {
          "base_uri": "https://localhost:8080/",
          "height": 35
        },
        "outputId": "9f4b2196-853b-4153-ae9f-5ea1d929a8e6"
      },
      "source": [
        "# el método join() que debe ser llamado desde una cadena que actúa como separador para unir dentro de una misma cadena resultante los elementos de una lista.\n",
        "palabra = \", \".join([\"C\", \"C++\", \"Python\", \"Java\"])\n",
        "print(palabra)"
      ],
      "execution_count": null,
      "outputs": [
        {
          "output_type": "stream",
          "text": [
            "C, C++, Python, Java\n"
          ],
          "name": "stdout"
        }
      ]
    },
    {
      "cell_type": "code",
      "metadata": {
        "id": "xy45Y-C6sNEr",
        "colab": {
          "base_uri": "https://localhost:8080/",
          "height": 139
        },
        "outputId": "96cafe36-1519-4567-d98a-49290e49511f"
      },
      "source": [
        "# Python nos permite recorrer todos los caracteres de una cadena de manera muy sencilla, usando directamente un ciclo definido:\n",
        "for x in \"Alfonso\" :\n",
        "  print (x)"
      ],
      "execution_count": null,
      "outputs": [
        {
          "output_type": "stream",
          "text": [
            "A\n",
            "l\n",
            "f\n",
            "o\n",
            "n\n",
            "s\n",
            "o\n"
          ],
          "name": "stdout"
        }
      ]
    },
    {
      "cell_type": "markdown",
      "metadata": {
        "id": "ND84j7jvOn3j"
      },
      "source": [
        "## Programas con cadenas de texto"
      ]
    },
    {
      "cell_type": "code",
      "metadata": {
        "id": "EhWpt8zlOsFj",
        "colab": {
          "base_uri": "https://localhost:8080/",
          "height": 176
        },
        "outputId": "c31ea7bc-b771-4970-c6cc-cc280ba43f2e"
      },
      "source": [
        "# Programa que convierte en minuscula, mayuscula una frase, la longitud\n",
        "frase = input(\"Introduzca una frase (con min, May, Num, acentos, y espacios): \")\n",
        "\n",
        "\n",
        "print(\"Minúsculas        : \" + frase.lower())\n",
        "print(\"Mayúsculas        : %s\" % frase.upper())\n",
        "print(\"frase en mayúsculas: {}\".format(frase.capitalize()))\n",
        "print(\"palabras en mayúsculas :\", frase.title())\n",
        "print(\"Longitud de la cadena: {}\".format(len(frase)))\n",
        "\n",
        "print(\"¿Su frase contiene la letra 'a'?\", \"a\" in frase)\n",
        "print(\"¿Su frase contiene la secuencia 'abc'?\", \"abc\" in frase)\n",
        "\n"
      ],
      "execution_count": null,
      "outputs": [
        {
          "output_type": "stream",
          "text": [
            "Introduzca una frase (con min, May, Num, acentos, y espacios): Esto es una frase de prueba\n",
            "Minúsculas        : esto es una frase de prueba\n",
            "Mayúsculas        : ESTO ES UNA FRASE DE PRUEBA\n",
            "frase en mayúsculas: Esto es una frase de prueba\n",
            "palabras en mayúsculas : Esto Es Una Frase De Prueba\n",
            "Longitud de la cadena: 27\n",
            "¿Su frase contiene la letra 'a'? True\n",
            "¿Su frase contiene la secuencia 'abc'? False\n"
          ],
          "name": "stdout"
        }
      ]
    },
    {
      "cell_type": "code",
      "metadata": {
        "id": "_ciR6kwoPa5i",
        "colab": {
          "base_uri": "https://localhost:8080/",
          "height": 87
        },
        "outputId": "83b8be9e-8b63-482f-a4a7-5e35e135be17"
      },
      "source": [
        " # Programa que cuenta las ocurrencias de una letra\n",
        "num = frase.count(\"a\")\n",
        "print(\"¿Cuántas ocurrencias de 'a' se encuentran en la frase?\", num)\n",
        "if num > 0:\n",
        "    index = frase.find(\"a\")\n",
        "    print(\"¿Dónde se encuentra la primera ocurrencia de 'a'?\", index)\n",
        "    for i in range(1, num):\n",
        "        index = frase.find(\"a\", index + 1)\n",
        "        print(\"La ocurrencia numéro {} de 'a' se encuentra en el índice {}\".format(\n",
        "            i + 1, index))"
      ],
      "execution_count": null,
      "outputs": [
        {
          "output_type": "stream",
          "text": [
            "¿Cuántas ocurrencias de 'a' se encuentran en la frase? 3\n",
            "¿Dónde se encuentra la primera ocurrencia de 'a'? 10\n",
            "La ocurrencia numéro 2 de 'a' se encuentra en el índice 14\n",
            "La ocurrencia numéro 3 de 'a' se encuentra en el índice 26\n"
          ],
          "name": "stdout"
        }
      ]
    },
    {
      "cell_type": "code",
      "metadata": {
        "id": "njabqXbAPvuz",
        "colab": {
          "base_uri": "https://localhost:8080/",
          "height": 69
        },
        "outputId": "3365d14c-597c-45ee-b2da-712e9d4a5108"
      },
      "source": [
        "# Programa que reemplaza un caracter por otro.\n",
        "print(\"Reemplazar las 'a' por '*':\")\n",
        "frase_oculta = frase.replace(\"a\", \"*\")\n",
        "print(frase)\n",
        "print(frase_oculta)"
      ],
      "execution_count": null,
      "outputs": [
        {
          "output_type": "stream",
          "text": [
            "Reemplazar las 'a' por '*':\n",
            "Esto es una frase de prueba\n",
            "Esto es un* fr*se de prueb*\n"
          ],
          "name": "stdout"
        }
      ]
    },
    {
      "cell_type": "code",
      "metadata": {
        "id": "-rkl97MRQFNE",
        "colab": {
          "base_uri": "https://localhost:8080/",
          "height": 52
        },
        "outputId": "05275101-2a43-4164-831b-0edac04559f4"
      },
      "source": [
        "# Programa que imprime caracteres poco usuales\n",
        "print(\"Y ahora, algunos caracteres poco usuales:\")\n",
        "print(chr(0x2318),\n",
        "      chr(0x2704),\n",
        "      chr(0x2764),\n",
        "      chr(0x265b),\n",
        "      chr(0x2620),\n",
        "      chr(0x2622),\n",
        "      chr(0x1f053),\n",
        "      chr(0x1f084),\n",
        "      chr(0x1f0d1))\n"
      ],
      "execution_count": null,
      "outputs": [
        {
          "output_type": "stream",
          "text": [
            "Y ahora, algunos caracteres poco usuales:\n",
            "⌘ ✄ ❤ ♛ ☠ ☢ 🁓 🂄 🃑\n"
          ],
          "name": "stdout"
        }
      ]
    },
    {
      "cell_type": "markdown",
      "metadata": {
        "id": "13OPQgjPQjFs"
      },
      "source": [
        "# **3.Listas**"
      ]
    },
    {
      "cell_type": "markdown",
      "metadata": {
        "id": "rwl24IVyo09U"
      },
      "source": [
        "## Teoria\r\n",
        "\r\n",
        "Las listas se tratan de un tipo compuesto de dato que puede almacenar distintos valores (llamados ítems o elementos) ordenados entre [ ] y separados con comas.\r\n",
        "\r\n",
        "![texto alternativo](https://bioinf.comav.upv.es/courses/linux/_images/python_list.png)\r\n",
        "\r\n",
        "Puede contener todo tipo de objetos, incluso de distintos tipos\r\n",
        "\r\n",
        "Lista = [1,2,3,4]"
      ]
    },
    {
      "cell_type": "markdown",
      "metadata": {
        "id": "4N5LcyxZRTRn"
      },
      "source": [
        "## Ejercicios con Listas"
      ]
    },
    {
      "cell_type": "code",
      "metadata": {
        "id": "osifGr5XUOTU",
        "colab": {
          "base_uri": "https://localhost:8080/",
          "height": 35
        },
        "outputId": "8edb8afd-a83e-4806-ebd4-d77a16644446"
      },
      "source": [
        "# Creamos una lista vacia\n",
        "lista = [ ]\n",
        "lista"
      ],
      "execution_count": null,
      "outputs": [
        {
          "output_type": "execute_result",
          "data": {
            "text/plain": [
              "[]"
            ]
          },
          "metadata": {
            "tags": []
          },
          "execution_count": 21
        }
      ]
    },
    {
      "cell_type": "code",
      "metadata": {
        "id": "0kSOulhcRXLl",
        "colab": {
          "base_uri": "https://localhost:8080/",
          "height": 35
        },
        "outputId": "4bd98c49-b2c2-4bd1-8ce8-2979a319ea18"
      },
      "source": [
        "# Creación de una lista de números y letras\n",
        "numeros = [1,'a','b',3,4,'c','d']\n",
        "numeros"
      ],
      "execution_count": null,
      "outputs": [
        {
          "output_type": "execute_result",
          "data": {
            "text/plain": [
              "[1, 'a', 'b', 3, 4, 'c', 'd']"
            ]
          },
          "metadata": {
            "tags": []
          },
          "execution_count": 14
        }
      ]
    },
    {
      "cell_type": "code",
      "metadata": {
        "id": "6XgxVXGwkTxD",
        "colab": {
          "base_uri": "https://localhost:8080/",
          "height": 35
        },
        "outputId": "6d730882-862d-415e-b07a-385d65088b0e"
      },
      "source": [
        "# Para cambiar una componente de una lista, se selecciona la componente mediante su índice y se le asigna el nuevo valor:\n",
        "lista = ['Hola', 'Adios', 'Ahora', 'Antes']\n",
        "lista[1] = 'Hasta pronto'\n",
        "lista"
      ],
      "execution_count": null,
      "outputs": [
        {
          "output_type": "execute_result",
          "data": {
            "text/plain": [
              "['Hola', 'Hasta pronto', 'Ahora', 'Antes']"
            ]
          },
          "metadata": {
            "tags": []
          },
          "execution_count": 1
        }
      ]
    },
    {
      "cell_type": "code",
      "metadata": {
        "id": "C8IzIwqnkvlI",
        "colab": {
          "base_uri": "https://localhost:8080/",
          "height": 35
        },
        "outputId": "cb00c710-eff3-4ef6-bedc-13d7875ffd55"
      },
      "source": [
        "# Insertar un nuevo valor en la lista en la posición deseada\n",
        "lista = [1,2,4,5]\n",
        "lista.insert(2,3) # Insertar un 3 antes del 4\n",
        "lista"
      ],
      "execution_count": null,
      "outputs": [
        {
          "output_type": "execute_result",
          "data": {
            "text/plain": [
              "[1, 2, 3, 4, 5]"
            ]
          },
          "metadata": {
            "tags": []
          },
          "execution_count": 3
        }
      ]
    },
    {
      "cell_type": "code",
      "metadata": {
        "id": "oeHxgx9slkEI",
        "colab": {
          "base_uri": "https://localhost:8080/",
          "height": 35
        },
        "outputId": "ccd26a7b-0ec0-49c4-c82c-d40f2acc6690"
      },
      "source": [
        "# Para eliminar un valor de una lista se utiliza la operación remove().Si el valor a borrar está repetido, se borra sólo su primera aparición\n",
        "lista = [1,2,4,5]\n",
        "lista.remove(5)\n",
        "lista"
      ],
      "execution_count": null,
      "outputs": [
        {
          "output_type": "execute_result",
          "data": {
            "text/plain": [
              "[1, 2, 4]"
            ]
          },
          "metadata": {
            "tags": []
          },
          "execution_count": 4
        }
      ]
    },
    {
      "cell_type": "code",
      "metadata": {
        "id": "zKDuhK-wS6R9",
        "colab": {
          "base_uri": "https://localhost:8080/",
          "height": 69
        },
        "outputId": "af0cf5bd-92ec-43e5-cb02-e97f2ba71008"
      },
      "source": [
        "# Creamos una lista dentro de otra lista. \n",
        "peliculas = [ [\"Senderos de Gloria\", 1957], [\"Hannah y sus hermanas\", 1986]]\n",
        "print(peliculas)\n",
        "print(peliculas[0])\n",
        "print(peliculas[1])"
      ],
      "execution_count": null,
      "outputs": [
        {
          "output_type": "stream",
          "text": [
            "[['Senderos de Gloria', 1957], ['Hannah y sus hermanas', 1986]]\n",
            "['Senderos de Gloria', 1957]\n",
            "['Hannah y sus hermanas', 1986]\n"
          ],
          "name": "stdout"
        }
      ]
    },
    {
      "cell_type": "code",
      "metadata": {
        "colab": {
          "base_uri": "https://localhost:8080/"
        },
        "id": "bVpToVkAepa1",
        "outputId": "4cb094b3-ab70-4972-e80b-cacc8de96517"
      },
      "source": [
        "# Recorrer una lista dentro de otra lista con bucle for\r\n",
        "\r\n",
        "amigos = [[\"Susana\",18], \r\n",
        "          [\"Rubén\", 19],\r\n",
        "          [\"Clara\",20],\r\n",
        "          [\"Jorge\",21]]\r\n",
        "amigos.append([\"Sara\"]) #Añadimos a Sara\r\n",
        "amigos[4].append(22) # Añadimos edad de Sara\r\n",
        "\r\n",
        "for amigo in amigos:\r\n",
        "  print(\"{:10}:{:2}\".format(amigo[0],amigo[1]))"
      ],
      "execution_count": 24,
      "outputs": [
        {
          "output_type": "stream",
          "text": [
            "Susana    :18\n",
            "Rubén     :19\n",
            "Clara     :20\n",
            "Jorge     :21\n",
            "Sara      :22\n"
          ],
          "name": "stdout"
        }
      ]
    },
    {
      "cell_type": "code",
      "metadata": {
        "id": "5s009limezSc"
      },
      "source": [
        ""
      ],
      "execution_count": null,
      "outputs": []
    },
    {
      "cell_type": "code",
      "metadata": {
        "id": "n0LABDrqRlKy",
        "colab": {
          "base_uri": "https://localhost:8080/",
          "height": 69
        },
        "outputId": "e3e73b66-ac08-4c8e-d09d-a72d0a1a8eba"
      },
      "source": [
        "# Imprimir listas usando índices\n",
        "datos = [4, \"Una cadena\", -15, 3.14, \"Otra cadena\"]\n",
        "\n",
        "print(datos[0])\n",
        "print(datos[-1])\n",
        "print(datos[2:])"
      ],
      "execution_count": null,
      "outputs": [
        {
          "output_type": "stream",
          "text": [
            "4\n",
            "Otra cadena\n",
            "[-15, 3.14, 'Otra cadena']\n"
          ],
          "name": "stdout"
        }
      ]
    },
    {
      "cell_type": "code",
      "metadata": {
        "id": "duH1tHzXR6r3",
        "colab": {
          "base_uri": "https://localhost:8080/",
          "height": 89
        },
        "outputId": "8d51c705-0935-4ee7-d02a-df5fd365fd4c"
      },
      "source": [
        "# Creamos una lista con la función list()\n",
        "lista = list(\"Python is awesome\")\n",
        "\n",
        "# Mostrar la lista\n",
        "print(\"lista = \", lista)\n",
        "# acceso a un miembro de la lista (get)\n",
        "print(\"lista[4] = \", lista[4])\n",
        "print(\"lista[-3] = \", lista[-3])"
      ],
      "execution_count": null,
      "outputs": [
        {
          "output_type": "stream",
          "text": [
            "lista =  ['P', 'y', 't', 'h', 'o', 'n', ' ', 'i', 's', ' ', 'a', 'w', 'e', 's', 'o', 'm', 'e']\n",
            "lista[4] =  o\n",
            "lista[-3] =  o\n"
          ],
          "name": "stdout"
        }
      ]
    },
    {
      "cell_type": "code",
      "metadata": {
        "id": "dhDPo4nXSOOd",
        "colab": {
          "base_uri": "https://localhost:8080/",
          "height": 35
        },
        "outputId": "841000e4-85de-463d-f1b9-dd65e177825d"
      },
      "source": [
        "# Suma de listas\n",
        "lista1 = [1,2,3]\n",
        "lista2 = ['a','b','c']\n",
        "lista = lista1 + lista2\n",
        "print (lista)"
      ],
      "execution_count": null,
      "outputs": [
        {
          "output_type": "stream",
          "text": [
            "[1, 2, 3, 'a', 'b', 'c']\n"
          ],
          "name": "stdout"
        }
      ]
    },
    {
      "cell_type": "code",
      "metadata": {
        "id": "tGYogkwHUxJF",
        "colab": {
          "base_uri": "https://localhost:8080/",
          "height": 35
        },
        "outputId": "ab12ba75-2cbd-4f94-8266-4d92d858c808"
      },
      "source": [
        "# Para averiguar la posición de un valor dentro de una lista usaremos la operación index().\n",
        "letras = [\"A\", \"B\", \"C\", \"D\", \"E\", \"F\", \"G\", \"H\"]\n",
        "letras.index('D')\n"
      ],
      "execution_count": null,
      "outputs": [
        {
          "output_type": "execute_result",
          "data": {
            "text/plain": [
              "3"
            ]
          },
          "metadata": {
            "tags": []
          },
          "execution_count": 5
        }
      ]
    },
    {
      "cell_type": "code",
      "metadata": {
        "id": "aj5D2v98mI2H",
        "colab": {
          "base_uri": "https://localhost:8080/",
          "height": 104
        },
        "outputId": "ec51cfa3-1e22-40ed-c348-49cf52c04117"
      },
      "source": [
        "# Para iterar sobre todos los elementos de una lista usaremos una construcción for:\n",
        "zs = [5, 3, 8, 10, 2]\n",
        "for x in zs:\n",
        " print (x)"
      ],
      "execution_count": null,
      "outputs": [
        {
          "output_type": "stream",
          "text": [
            "5\n",
            "3\n",
            "8\n",
            "10\n",
            "2\n"
          ],
          "name": "stdout"
        }
      ]
    },
    {
      "cell_type": "code",
      "metadata": {
        "id": "x4IK6uRtVGdw",
        "colab": {
          "base_uri": "https://localhost:8080/",
          "height": 35
        },
        "outputId": "a286b9b0-d70a-47b4-aa17-a4fa1df378a2"
      },
      "source": [
        "# Si queremos copiar una lista, de manera que conservemos su valor aunque modifiquemos la lista original debemos utilizar la notación de sublistas.\n",
        "lista1 = [\"A\", \"B\", \"C\"]\n",
        "lista2 = lista1[:] # Hacemos una copia de la lista lista1\n",
        "lista1, lista2\n"
      ],
      "execution_count": null,
      "outputs": [
        {
          "output_type": "execute_result",
          "data": {
            "text/plain": [
              "(['A', 'B', 'C'], ['A', 'B', 'C'])"
            ]
          },
          "metadata": {
            "tags": []
          },
          "execution_count": 23
        }
      ]
    },
    {
      "cell_type": "code",
      "metadata": {
        "id": "9dYqkikyVdAu",
        "colab": {
          "base_uri": "https://localhost:8080/",
          "height": 35
        },
        "outputId": "6bf75dd6-44b1-489f-934c-3fd2125c639d"
      },
      "source": [
        "# Recorrer una lista\n",
        "letras = [\"A\", \"B\", \"C\"]\n",
        "for i in letras:\n",
        "    print(i, end=\" \")"
      ],
      "execution_count": null,
      "outputs": [
        {
          "output_type": "stream",
          "text": [
            "A B C "
          ],
          "name": "stdout"
        }
      ]
    },
    {
      "cell_type": "code",
      "metadata": {
        "id": "EbuyHSQjVl8T",
        "colab": {
          "base_uri": "https://localhost:8080/",
          "height": 35
        },
        "outputId": "6bdc950f-704d-45af-970d-17d81e7fee05"
      },
      "source": [
        "# Recorrer una lista al revés\n",
        "letras = [\"A\", \"B\", \"C\"]\n",
        "for i in range(len(letras)-1, -1, -1):\n",
        "    print(letras[i], end=\" \")"
      ],
      "execution_count": null,
      "outputs": [
        {
          "output_type": "stream",
          "text": [
            "C B A "
          ],
          "name": "stdout"
        }
      ]
    },
    {
      "cell_type": "code",
      "metadata": {
        "id": "kQJkl-YOVqhY",
        "colab": {
          "base_uri": "https://localhost:8080/",
          "height": 87
        },
        "outputId": "aa88ec07-bb90-4c99-ed02-45f06e548978"
      },
      "source": [
        "# Recorrer y modificar una lista\n",
        "letras = [\"A\", \"B\", \"C\"]\n",
        "print(letras)\n",
        "for i in range(len(letras)):\n",
        "    letras[i] = \"X\"\n",
        "    print(letras)"
      ],
      "execution_count": null,
      "outputs": [
        {
          "output_type": "stream",
          "text": [
            "['A', 'B', 'C']\n",
            "['X', 'B', 'C']\n",
            "['X', 'X', 'C']\n",
            "['X', 'X', 'X']\n"
          ],
          "name": "stdout"
        }
      ]
    },
    {
      "cell_type": "code",
      "metadata": {
        "id": "8-rSt3xvV84l"
      },
      "source": [
        "# Eliminar valores de una lista.\n",
        "# Para eliminar los elementos de una lista necesitamos recorrer la lista al revés. Si recorremos la lista de principio a fin, al eliminar un valor de la lista, la lista se acorta y cuando intentamos acceder a los últimos valores se produce un error de índice fuera de rango\n",
        "# La solución es recorrer la lista en orden inverso, de manera que aunque se eliminen elementos y la lista se acorte, los valores que todavía no se han recorrido siguen existiendo en la misma posición que al principio.\n",
        "letras = [\"A\", \"B\", \"C\"]\n",
        "print(letras)\n",
        "for i in range(len(letras)-1, -1, -1):\n",
        "    if letras[i] == \"B\":\n",
        "        del letras[i]\n",
        "    print(letras)"
      ],
      "execution_count": null,
      "outputs": []
    },
    {
      "cell_type": "markdown",
      "metadata": {
        "id": "rgGQxkj2nAxB"
      },
      "source": [
        "## Programas con Listas"
      ]
    },
    {
      "cell_type": "code",
      "metadata": {
        "id": "BOViF11Xod5j",
        "colab": {
          "base_uri": "https://localhost:8080/",
          "height": 104
        },
        "outputId": "bab91227-ed7a-4d98-f619-4856fd06ee99"
      },
      "source": [
        "# Escriba un programa que permita crear una lista de palabras. Para ello, el programa tiene que pedir un número y luego solicitar ese número de palabras para crear la lista. Por último, el programa tiene que escribir la lista. \n",
        "#Programa que genera una lista introducida\n",
        "numero = int(input(\"Dígame cuántas palabras tiene la lista: \"))\n",
        "\n",
        "if numero < 1:\n",
        "    print(\"¡Imposible!\")\n",
        "else:\n",
        "    lista = []\n",
        "    for i in range(numero):\n",
        "        print(\"Dígame la palabra\", str(i + 1) + \": \", end=\"\")\n",
        "        palabra = input()\n",
        "        lista += [palabra]\n",
        "    print(\"La lista creada es:\", lista)"
      ],
      "execution_count": null,
      "outputs": [
        {
          "output_type": "stream",
          "text": [
            "Dígame cuántas palabras tiene la lista: 3\n",
            "Dígame la palabra 1: Alfonso\n",
            "Dígame la palabra 2: Alberto\n",
            "Dígame la palabra 3: Alfredo\n",
            "La lista creada es: ['Alfonso', 'Alberto', 'Alfredo']\n"
          ],
          "name": "stdout"
        }
      ]
    },
    {
      "cell_type": "code",
      "metadata": {
        "id": "EP03T40Po-oW",
        "colab": {
          "base_uri": "https://localhost:8080/",
          "height": 156
        },
        "outputId": "a6f941e0-d10e-404d-9071-cf652cf1d670"
      },
      "source": [
        "# Escriba un programa que permita crear una lista de palabras y que, a continuación, pida una palabra y diga cuántas veces aparece esa palabra en la lista.\n",
        "numero = int(input(\"Dígame cuántas palabras tiene la lista: \"))\n",
        "\n",
        "if numero < 1:\n",
        "    print(\"¡Imposible!\")\n",
        "else:\n",
        "    lista = []\n",
        "    for i in range(numero):\n",
        "        print(\"Dígame la palabra\", str(i + 1) + \": \", end=\"\")\n",
        "        palabra = input()\n",
        "        lista += [palabra]\n",
        "    print(\"La lista creada es:\", lista)\n",
        "\n",
        "    buscar = input(\"Dígame la palabra a buscar: \")\n",
        "    contador = 0\n",
        "    for i in lista:\n",
        "        if i == buscar:\n",
        "            contador += 1;\n",
        "    if contador == 0:\n",
        "        print(\"La palabra '\" + buscar + \"' no aparece en la lista.\")\n",
        "    elif contador == 1:\n",
        "        print(\"La palabra '\" + buscar + \"' aparece una vez en la lista.\")\n",
        "    else:\n",
        "        print(\"La palabra '\" + buscar + \"' aparece\", contador, \"veces en la lista.\")"
      ],
      "execution_count": null,
      "outputs": [
        {
          "output_type": "stream",
          "text": [
            "Dígame cuántas palabras tiene la lista: 4\n",
            "Dígame la palabra 1: Alfonso\n",
            "Dígame la palabra 2: Alberto\n",
            "Dígame la palabra 3: Alfonso\n",
            "Dígame la palabra 4: Carmen\n",
            "La lista creada es: ['Alfonso', 'Alberto', 'Alfonso', 'Carmen']\n",
            "Dígame la palabra a buscar: Alfonso\n",
            "La palabra 'Alfonso' aparece 2 veces en la lista.\n"
          ],
          "name": "stdout"
        }
      ]
    },
    {
      "cell_type": "code",
      "metadata": {
        "id": "JFexViSSpTv3",
        "colab": {
          "base_uri": "https://localhost:8080/",
          "height": 139
        },
        "outputId": "4012d1c6-1c9e-429b-87c9-5e413d28f87b"
      },
      "source": [
        "#Escriba un programa que permita crear una lista de palabras y que, a continuación, pida dos palabras y sustituya la primera por la segunda en la lista.\n",
        "numero = int(input(\"Dígame cuántas palabras tiene la lista: \"))\n",
        "\n",
        "if numero < 1:\n",
        "    print(\"¡Imposible!\")\n",
        "else:\n",
        "    lista = []\n",
        "    for i in range(numero):\n",
        "        print(\"Dígame la palabra\", str(i + 1) + \": \", end=\"\")\n",
        "        palabra = input()\n",
        "        lista += [palabra]\n",
        "    print(\"La lista creada es:\", lista)\n",
        "\n",
        "    eliminar = input(\"Palabra a eliminar: \")\n",
        "    for i in range(len(lista)-1, -1, -1):\n",
        "        if lista[i] == eliminar:\n",
        "            del(lista[i])\n",
        "    print(\"La lista es ahora:\", lista)"
      ],
      "execution_count": null,
      "outputs": [
        {
          "output_type": "stream",
          "text": [
            "Dígame cuántas palabras tiene la lista: 3\n",
            "Dígame la palabra 1: Juan\n",
            "Dígame la palabra 2: Alfonso\n",
            "Dígame la palabra 3: Juan\n",
            "La lista creada es: ['Juan', 'Alfonso', 'Juan']\n",
            "Palabra a eliminar: Juan\n",
            "La lista es ahora: ['Alfonso']\n"
          ],
          "name": "stdout"
        }
      ]
    },
    {
      "cell_type": "code",
      "metadata": {
        "id": "zf5rfsEzpXOY",
        "colab": {
          "base_uri": "https://localhost:8080/",
          "height": 225
        },
        "outputId": "f16fe369-e351-44a7-f832-3bb6ef75dbec"
      },
      "source": [
        "# Escriba un programa que permita crear una lista de palabras y que, a continuación, pida una palabra y elimine esa palabra de la lista.\n",
        "numero = int(input(\"Dígame cuántas palabras tiene la lista: \"))\n",
        "\n",
        "if numero < 1:\n",
        "    print(\"¡Imposible!\")\n",
        "else:\n",
        "    lista = []\n",
        "    for i in range(numero):\n",
        "        print(\"Dígame la palabra\", str(i + 1) + \": \", end=\"\")\n",
        "        palabra = input()\n",
        "        lista += [palabra]\n",
        "    print(\"La lista creada es:\", lista)\n",
        "\n",
        "    numero2 = int(input(\"Dígame cuántas palabras tiene la lista de palabras a eliminar: \"))\n",
        "\n",
        "    if numero2 < 1:\n",
        "        print(\"¡Imposible!\")\n",
        "    else:\n",
        "        eliminar = []\n",
        "        for i in range(numero2):\n",
        "            print(\"Dígame la palabra\", str(i + 1) + \": \", end=\"\")\n",
        "            palabra = input()\n",
        "            eliminar += [palabra]\n",
        "        print(\"La lista de palabras a eliminar es:\", eliminar)\n",
        "\n",
        "        for i in eliminar:\n",
        "            for j in range(len(lista)-1, -1, -1):\n",
        "                if lista[j] == i:\n",
        "                    del(lista[j])\n",
        "        print(\"La lista es ahora:\", lista)"
      ],
      "execution_count": null,
      "outputs": [
        {
          "output_type": "stream",
          "text": [
            "Dígame cuántas palabras tiene la lista: 3\n",
            "Dígame la palabra 1: Alberto\n",
            "Dígame la palabra 2: Juan\n",
            "Dígame la palabra 3: Pepe\n",
            "La lista creada es: ['Alberto', 'Juan', 'Pepe']\n",
            "Dígame cuántas palabras tiene la lista de palabras a eliminar: 4\n",
            "Dígame la palabra 1: Juan\n",
            "Dígame la palabra 2: Pepe\n",
            "Dígame la palabra 3: Alberto\n",
            "Dígame la palabra 4: Ruz\n",
            "La lista de palabras a eliminar es: ['Juan', 'Pepe', 'Alberto', 'Ruz']\n",
            "La lista es ahora: []\n"
          ],
          "name": "stdout"
        }
      ]
    },
    {
      "cell_type": "code",
      "metadata": {
        "id": "86zoMVhDpZ4a",
        "colab": {
          "base_uri": "https://localhost:8080/",
          "height": 121
        },
        "outputId": "7c17796f-9128-48d0-c872-275652ae1bf1"
      },
      "source": [
        "# Escriba un programa que permita crear dos listas de palabras y que, a continuación, elimine de la primera lista los nombres de la segunda lista.\n",
        "numero = int(input(\"Dígame cuántas palabras tiene la lista: \"))\n",
        "\n",
        "if numero < 1:\n",
        "    print(\"¡Imposible!\")\n",
        "else:\n",
        "    lista = []\n",
        "    for i in range(numero):\n",
        "        print(\"Dígame la palabra\", str(i + 1) + \": \", end=\"\")\n",
        "        palabra = input()\n",
        "        lista += [palabra]\n",
        "    print(\"La lista creada es:\", lista)\n",
        "\n",
        "    inversa = []\n",
        "    for i in lista:\n",
        "        inversa = [i] + inversa\n",
        "    print(\"La lista inversa es:\", inversa)"
      ],
      "execution_count": null,
      "outputs": [
        {
          "output_type": "stream",
          "text": [
            "Dígame cuántas palabras tiene la lista: 3\n",
            "Dígame la palabra 1: Alfonso\n",
            "Dígame la palabra 2: Maria\n",
            "Dígame la palabra 3: Juan\n",
            "La lista creada es: ['Alfonso', 'Maria', 'Juan']\n",
            "La lista inversa es: ['Juan', 'Maria', 'Alfonso']\n"
          ],
          "name": "stdout"
        }
      ]
    },
    {
      "cell_type": "code",
      "metadata": {
        "id": "cPrUACLiqSZw",
        "colab": {
          "base_uri": "https://localhost:8080/",
          "height": 121
        },
        "outputId": "cda2fb52-e86c-49af-aa5d-098372eafb44"
      },
      "source": [
        "# Escriba un programa que permita crear una lista de palabras y que, a continuación, elimine los elementos repetidos (dejando únicamente el primero de los elementos repetidos).\n",
        "numero = int(input(\"Dígame cuántas palabras tiene la lista: \"))\n",
        "\n",
        "if numero < 1:\n",
        "    print(\"¡Imposible!\")\n",
        "else:\n",
        "    lista = []\n",
        "    for i in range(numero):\n",
        "        print(\"Dígame la palabra\", str(i + 1) + \": \", end=\"\")\n",
        "        palabra = input()\n",
        "        lista += [palabra]\n",
        "    print(\"La lista creada es:\", lista)\n",
        "\n",
        "    for i in range(len(lista)-1, -1, -1):\n",
        "        if lista[i] in lista[:i]:\n",
        "            del(lista[i])\n",
        "    print(\"La lista sin repeticiones es:\", lista)"
      ],
      "execution_count": null,
      "outputs": [
        {
          "output_type": "stream",
          "text": [
            "Dígame cuántas palabras tiene la lista: 3\n",
            "Dígame la palabra 1: Alfonso\n",
            "Dígame la palabra 2: Alfonso\n",
            "Dígame la palabra 3: Maria\n",
            "La lista creada es: ['Alfonso', 'Alfonso', 'Maria']\n",
            "La lista sin repeticiones es: ['Alfonso', 'Maria']\n"
          ],
          "name": "stdout"
        }
      ]
    },
    {
      "cell_type": "code",
      "metadata": {
        "id": "3lZWVoWlnDPx",
        "colab": {
          "base_uri": "https://localhost:8080/",
          "height": 87
        },
        "outputId": "3c09dd60-0616-4522-eb52-1a5f06946a1e"
      },
      "source": [
        "# Programa de cartas\n",
        "from random import choice, sample, shuffle\n",
        "\n",
        "cartas = [chr(x) for x in range(0x1f0a1, 0x1f0af)]\n",
        "\n",
        "print(\"He aquí las cartas presentadas: \", \" \".join(cartas))\n",
        "\n",
        "print(\"Selecciona una al azar:\", \" \".join(choice(cartas)))\n",
        "print(\"Selecciona cinco al azar:\", \" \".join(sample(cartas, 5)))\n",
        "shuffle(cartas)\n",
        "print(\"Las mezcla:\", \" \".join(cartas))\n",
        "\n"
      ],
      "execution_count": null,
      "outputs": [
        {
          "output_type": "stream",
          "text": [
            "He aquí las cartas presentadas:  🂡 🂢 🂣 🂤 🂥 🂦 🂧 🂨 🂩 🂪 🂫 🂬 🂭 🂮\n",
            "Selecciona una al azar: 🂡\n",
            "Selecciona cinco al azar: 🂮 🂥 🂨 🂦 🂫\n",
            "Las mezcla: 🂥 🂬 🂤 🂦 🂭 🂣 🂫 🂪 🂩 🂢 🂡 🂮 🂧 🂨\n"
          ],
          "name": "stdout"
        }
      ]
    },
    {
      "cell_type": "code",
      "metadata": {
        "id": "UaOQBnV5vgo5",
        "colab": {
          "base_uri": "https://localhost:8080/",
          "height": 312
        },
        "outputId": "8abc8f7a-ee54-4c92-bf5b-faf210061fba"
      },
      "source": [
        "# Durante la planificación de un proyecto se han acordado una lista de tareas. Para cada una de estas tareas se ha asignado un orden de prioridad (cuanto menor es el número de orden, más prioridad).\n",
        "#¿Eres capaz de crear una estructura del tipo cola con todas las tareas ordenadas pero sin los números de orden?\n",
        "tareas = [ \n",
        "    [6, 'Distribución'],\n",
        "    [2, 'Diseño'],\n",
        "    [1, 'Concepción'],\n",
        "    [7, 'Mantenimiento'],\n",
        "    [4, 'Producción'],\n",
        "    [3, 'Planificación'],\n",
        "    [5, 'Pruebas']\n",
        "]\n",
        "\n",
        "print(\"==Tareas desordenadas==\")\n",
        "for tarea in tareas:\n",
        "    print(tarea[0], tarea[1])\n",
        "\n",
        "# Completa el ejercicio aquí\n",
        "from collections import deque\n",
        "\n",
        "tareas.sort()\n",
        "\n",
        "cola = deque()\n",
        "for tarea in tareas:\n",
        "    cola.append(tarea[1])\n",
        "\n",
        "print(\"\\n==Tareas ordenadas==\")\n",
        "for tarea in cola:\n",
        "    print(tarea)"
      ],
      "execution_count": null,
      "outputs": [
        {
          "output_type": "stream",
          "text": [
            "==Tareas desordenadas==\n",
            "6 Distribución\n",
            "2 Diseño\n",
            "1 Concepción\n",
            "7 Mantenimiento\n",
            "4 Producción\n",
            "3 Planificación\n",
            "5 Pruebas\n",
            "\n",
            "==Tareas ordenadas==\n",
            "Concepción\n",
            "Diseño\n",
            "Planificación\n",
            "Producción\n",
            "Pruebas\n",
            "Distribución\n",
            "Mantenimiento\n"
          ],
          "name": "stdout"
        }
      ]
    },
    {
      "cell_type": "markdown",
      "metadata": {
        "id": "HSm0GTartCab"
      },
      "source": [
        "# **4.Tuplas**\n"
      ]
    },
    {
      "cell_type": "markdown",
      "metadata": {
        "id": "D5cJYeJotElw"
      },
      "source": [
        "## Teoria\n",
        "\n",
        "* Son unas colecciones muy parecidas a las listas con la peculiaridad de que son inmutables.\n",
        "* Al igual que con las cadenas, las componentes de las tuplas no pueden ser modificadas.\n",
        "* A las tuplas también se les puede aplicar la función len() para calcular su longitud. El valor de esta función aplicada a una tupla nos indica cuántas componentes tiene esa tupla.\n",
        "* Una tupla vacía es una tupla con 0 componentes, y se la indica como ().\n",
        "* Las tuplas se utilizan para modelar situaciones en las cuales al momento de crearlas ya se sabe cuál va a ser la información a almacenar. Por ejemplo, para representar una fecha, una carta de la baraja, una ficha de dominó.\n",
        "* Al ser inmutables, las tuplas no disponen de métodos para modificar su contenido como append().\n",
        "\n",
        "![texto del enlace](https://elpythonista.com/wp-content/uploads/2020/11/Tuplas_En_Python.jpg)"
      ]
    },
    {
      "cell_type": "markdown",
      "metadata": {
        "id": "O-7sbSkWuP-c"
      },
      "source": [
        "## Ejercicios con Tuplas"
      ]
    },
    {
      "cell_type": "code",
      "metadata": {
        "id": "hzHbJTnDuT9a",
        "colab": {
          "base_uri": "https://localhost:8080/",
          "height": 35
        },
        "outputId": "6fe3129e-a1f2-47bf-c4b4-880647dd219f"
      },
      "source": [
        "# Ejemplo de Tupla.\n",
        "tupla = (100,\"Hola\",[1,2,3],-50)\n",
        "tupla"
      ],
      "execution_count": null,
      "outputs": [
        {
          "output_type": "execute_result",
          "data": {
            "text/plain": [
              "(100, 'Hola', [1, 2, 3], -50)"
            ]
          },
          "metadata": {
            "tags": []
          },
          "execution_count": 27
        }
      ]
    },
    {
      "cell_type": "code",
      "metadata": {
        "id": "9UF3VWDSugDx",
        "colab": {
          "base_uri": "https://localhost:8080/",
          "height": 104
        },
        "outputId": "cb1f20ec-9c0b-430a-ce30-05e24b61c6fb"
      },
      "source": [
        "# Ejemplo de indexacion y slicing\n",
        "print(tupla)\n",
        "print(tupla[0])\n",
        "print(tupla[-1])\n",
        "print(tupla[2:])\n",
        "print(tupla[2][-1])"
      ],
      "execution_count": null,
      "outputs": [
        {
          "output_type": "stream",
          "text": [
            "(100, 'Hola', [1, 2, 3], -50)\n",
            "100\n",
            "-50\n",
            "([1, 2, 3], -50)\n",
            "3\n"
          ],
          "name": "stdout"
        }
      ]
    },
    {
      "cell_type": "code",
      "metadata": {
        "id": "zbKNfPYluoV5",
        "colab": {
          "base_uri": "https://localhost:8080/",
          "height": 35
        },
        "outputId": "5a01b9e7-27fc-47f0-f1cb-fc2698834a11"
      },
      "source": [
        "# Igual que si fuera una lista podemos utilizarla la funcion len() para saber la longitud de una tupla:\n",
        "len(tupla)"
      ],
      "execution_count": null,
      "outputs": [
        {
          "output_type": "execute_result",
          "data": {
            "text/plain": [
              "4"
            ]
          },
          "metadata": {
            "tags": []
          },
          "execution_count": 29
        }
      ]
    },
    {
      "cell_type": "code",
      "metadata": {
        "id": "klvwFCNnuwtB",
        "colab": {
          "base_uri": "https://localhost:8080/",
          "height": 35
        },
        "outputId": "d83360e0-909c-4c73-d740-216128228059"
      },
      "source": [
        "# index() Sirve para buscar un elemento y saber su posición en la tupla:\n",
        "tupla.index('Hola')"
      ],
      "execution_count": null,
      "outputs": [
        {
          "output_type": "execute_result",
          "data": {
            "text/plain": [
              "1"
            ]
          },
          "metadata": {
            "tags": []
          },
          "execution_count": 30
        }
      ]
    },
    {
      "cell_type": "code",
      "metadata": {
        "id": "KGtrHeG4u5hS",
        "colab": {
          "base_uri": "https://localhost:8080/",
          "height": 35
        },
        "outputId": "6e36c23f-2c71-4ce4-de29-a9677b6c7156"
      },
      "source": [
        "# count() Sirve para contar cuantas veces aparece un elemento en una tupla:\n",
        "tupla.count(100)"
      ],
      "execution_count": null,
      "outputs": [
        {
          "output_type": "execute_result",
          "data": {
            "text/plain": [
              "1"
            ]
          },
          "metadata": {
            "tags": []
          },
          "execution_count": 31
        }
      ]
    },
    {
      "cell_type": "markdown",
      "metadata": {
        "id": "2Mg2xYwz1PMW"
      },
      "source": [
        "# **5. Conjuntos**"
      ]
    },
    {
      "cell_type": "markdown",
      "metadata": {
        "id": "dxJaxE0l1TFA"
      },
      "source": [
        "## Teoria\n",
        "\n",
        "* Son colecciones desordenadas de elementos únicos utilizados para hacer pruebas de pertenencia a grupos y eliminación de elementos duplicados.\n",
        "\n",
        "* Para definir un conjunto vacío hay que llamar a su clase set (conjunto en inglés):\n",
        "\n",
        "![Conjuntos](https://miro.medium.com/max/1200/1*i-dE6l_-8FV3HnVnbFHJdg.png)"
      ]
    },
    {
      "cell_type": "markdown",
      "metadata": {
        "id": "xq0q95Ji2g18"
      },
      "source": [
        "## Ejercicios con Conjuntos"
      ]
    },
    {
      "cell_type": "code",
      "metadata": {
        "id": "d3185THh2ljo",
        "colab": {
          "base_uri": "https://localhost:8080/"
        },
        "outputId": "b8c75b85-42e1-4836-a151-a87fd94ae024"
      },
      "source": [
        "# Para definir un conjunto vacío hay que llamar a su clase set\n",
        "conjunto = set()\n",
        "conjunto"
      ],
      "execution_count": null,
      "outputs": [
        {
          "output_type": "execute_result",
          "data": {
            "text/plain": [
              "set()"
            ]
          },
          "metadata": {
            "tags": []
          },
          "execution_count": 1
        }
      ]
    },
    {
      "cell_type": "code",
      "metadata": {
        "id": "5JdkUdzc2rns",
        "colab": {
          "base_uri": "https://localhost:8080/"
        },
        "outputId": "d046b031-562b-428f-f176-95cc8af4f61f"
      },
      "source": [
        "# Los conjuntos se definen entre {}, las Listas entre [], las tuplas ()\n",
        "conjunto = {1,2,3}\n",
        "conjunto"
      ],
      "execution_count": null,
      "outputs": [
        {
          "output_type": "execute_result",
          "data": {
            "text/plain": [
              "{1, 2, 3}"
            ]
          },
          "metadata": {
            "tags": []
          },
          "execution_count": 2
        }
      ]
    },
    {
      "cell_type": "code",
      "metadata": {
        "id": "5nMfMwYZ25Yz",
        "colab": {
          "base_uri": "https://localhost:8080/"
        },
        "outputId": "7d0d64d4-850b-4369-fe07-3cb78efb660b"
      },
      "source": [
        "# Método add(). Sirve para añadir elementos al conjunto, pero si un elemento ya se encuentra no se añadirá de nuevo:\n",
        "conjunto.add(4)\n",
        "conjunto"
      ],
      "execution_count": null,
      "outputs": [
        {
          "output_type": "execute_result",
          "data": {
            "text/plain": [
              "{1, 2, 3, 4}"
            ]
          },
          "metadata": {
            "tags": []
          },
          "execution_count": 3
        }
      ]
    },
    {
      "cell_type": "code",
      "metadata": {
        "id": "4kZRwyPh3D2_",
        "colab": {
          "base_uri": "https://localhost:8080/"
        },
        "outputId": "c2425a01-940e-456a-daec-c3e79fd35495"
      },
      "source": [
        "# Se dice que son desordenados porque gestionan automáticamente la posición de sus elementos, en lugar de conservarlos en la posición que nosotros los añadimos:\n",
        "conjunto.add('H')\n",
        "conjunto.add('A')\n",
        "conjunto.add('Z')\n",
        "conjunto"
      ],
      "execution_count": null,
      "outputs": [
        {
          "output_type": "execute_result",
          "data": {
            "text/plain": [
              "{1, 2, 3, 4, 'A', 'H', 'Z'}"
            ]
          },
          "metadata": {
            "tags": []
          },
          "execution_count": 4
        }
      ]
    },
    {
      "cell_type": "code",
      "metadata": {
        "id": "uOuSnnyX3Lo2",
        "colab": {
          "base_uri": "https://localhost:8080/"
        },
        "outputId": "80ac4ce8-bd2d-4971-f90c-14dd352a9fcf"
      },
      "source": [
        "# Es fácil saber si un elemento se encuentra en un conjunto utilizando la sintaxis in. Se utiliza mucho para trabajar con grupos:\n",
        "grupo = {'Hector','Juan','Mario'}\n",
        "'Hector' in grupo"
      ],
      "execution_count": null,
      "outputs": [
        {
          "output_type": "execute_result",
          "data": {
            "text/plain": [
              "True"
            ]
          },
          "metadata": {
            "tags": []
          },
          "execution_count": 5
        }
      ]
    },
    {
      "cell_type": "code",
      "metadata": {
        "id": "fNpJc72n3QlW",
        "colab": {
          "base_uri": "https://localhost:8080/"
        },
        "outputId": "fbfe92e6-a076-43db-fd82-2f9fc25bb896"
      },
      "source": [
        "# Consultar si Hector no pertenece al grupo\n",
        "'Hector' not in grupo"
      ],
      "execution_count": null,
      "outputs": [
        {
          "output_type": "execute_result",
          "data": {
            "text/plain": [
              "False"
            ]
          },
          "metadata": {
            "tags": []
          },
          "execution_count": 6
        }
      ]
    },
    {
      "cell_type": "code",
      "metadata": {
        "id": "cwP_WQd437LP",
        "colab": {
          "base_uri": "https://localhost:8080/"
        },
        "outputId": "6cac02f1-9ffd-49b6-d2f9-f1b9309394f3"
      },
      "source": [
        "# Elementos únicos. Los conjuntos no pueden tener el mismo elemento más de una vez, se borran los duplicados automáticamente:\n",
        "test = {'Hector','Hector','Hector'}\n",
        "test"
      ],
      "execution_count": null,
      "outputs": [
        {
          "output_type": "execute_result",
          "data": {
            "text/plain": [
              "{'Hector'}"
            ]
          },
          "metadata": {
            "tags": []
          },
          "execution_count": 7
        }
      ]
    },
    {
      "cell_type": "code",
      "metadata": {
        "id": "aIY7vxG94DEo",
        "colab": {
          "base_uri": "https://localhost:8080/"
        },
        "outputId": "72a2cb8d-84a0-415c-f606-bd48b083e873"
      },
      "source": [
        "# Conversiones con listas. Es muy útil transformar listas a conjuntos para borrar los elementos duplicados automáticamente y viceversa:\n",
        "lista = [1,2,3,3,2,1]\n",
        "print(lista)\n",
        "\n",
        "conjunto = set(lista)\n",
        "lista = list(conjunto)\n",
        "print(lista)"
      ],
      "execution_count": null,
      "outputs": [
        {
          "output_type": "stream",
          "text": [
            "[1, 2, 3, 3, 2, 1]\n",
            "[1, 2, 3]\n"
          ],
          "name": "stdout"
        }
      ]
    },
    {
      "cell_type": "markdown",
      "metadata": {
        "id": "yA7yeZi_9fD_"
      },
      "source": [
        "#6. **Funciones**"
      ]
    },
    {
      "cell_type": "markdown",
      "metadata": {
        "id": "mToOOQ_TFtAe"
      },
      "source": [
        "## Teoria\r\n",
        "\r\n",
        "Características de las funciones:\r\n",
        "\r\n",
        "* Agrupar expresiones y sentencias (algoritmos) que realicen determinadas acciones.\r\n",
        "*   No es ejecutada al menos que sea llamada.\r\n",
        "* Se requiere que la función esté definida antes de que sea usada.\r\n",
        "* Definición de la función es:\r\n",
        "  ![Funcion](https://s3-us-west-2.amazonaws.com/devcodepro/media/tutorials/funciones-en-python-t1.jpg) \r\n",
        "\r\n",
        "```\r\n",
        "# def nombre_funcion(parametros):\r\n",
        "     cuerpo_de_la_funcion\r\n",
        "```\r\n",
        "\r\n",
        "* Variables locales y globales (global)\r\n",
        "* Podemos guardar varias funciones en un módulo para reutilizarlas cuando queramos, sería un archivo .py\r\n",
        "* Funcion principal __main__ "
      ]
    },
    {
      "cell_type": "markdown",
      "metadata": {
        "id": "jfb3fa7SGFrk"
      },
      "source": [
        "## Ejercicios Funciones"
      ]
    },
    {
      "cell_type": "code",
      "metadata": {
        "colab": {
          "base_uri": "https://localhost:8080/"
        },
        "id": "g0OxOpgyGA83",
        "outputId": "d4145f2a-bead-4adb-8ff4-c6cd314084ba"
      },
      "source": [
        "# Declaracion de una funcion básica con una instrucción\r\n",
        "def letrero():\r\n",
        "  print(\"Hola soy una funcion\")\r\n",
        "\r\n",
        "# LLamo a la función, la podemos llamar las veces que queramoss\r\n",
        "letrero()"
      ],
      "execution_count": null,
      "outputs": [
        {
          "output_type": "stream",
          "text": [
            "Hola soy una funcion\n"
          ],
          "name": "stdout"
        }
      ]
    },
    {
      "cell_type": "code",
      "metadata": {
        "colab": {
          "base_uri": "https://localhost:8080/"
        },
        "id": "6CVygkkLH6Th",
        "outputId": "7bcc6641-11d2-4391-e41d-689559b150a0"
      },
      "source": [
        "# Declaramos funcion con varias instrucciones\r\n",
        "def suma():\r\n",
        "  a= 2+4 # Instruccion 1\r\n",
        "  print(\"Esto es una función 1\",a) # Instruccion 2\r\n",
        "  print(\"Esto es una función 2\",a) # Instruccion 3\r\n",
        "\r\n",
        "suma() #LLamada función"
      ],
      "execution_count": null,
      "outputs": [
        {
          "output_type": "stream",
          "text": [
            "Esto es una función 1 6\n",
            "Esto es una función 2 6\n"
          ],
          "name": "stdout"
        }
      ]
    },
    {
      "cell_type": "code",
      "metadata": {
        "colab": {
          "base_uri": "https://localhost:8080/"
        },
        "id": "k6YD6-QQLXsO",
        "outputId": "7e9b912b-401b-4547-de30-82dbafdf83a8"
      },
      "source": [
        "# Declaramos funcion que devuelva una lista de numeros aleatorios\r\n",
        "from random import random\r\n",
        "\r\n",
        "def generaAleatorios(cantNumeros):\r\n",
        "  cantNumeros = 4\r\n",
        "  lista =[] \r\n",
        "  indice = 0\r\n",
        "  while indice <cantNumeros:\r\n",
        "    lista.append(random()) \r\n",
        "    indice+=1 #incrementamos indice\r\n",
        "  print(lista)\r\n",
        "\r\n",
        "n = int(input(\"Introduce un valor:\"))\r\n",
        "generaAleatorios(n)"
      ],
      "execution_count": null,
      "outputs": [
        {
          "output_type": "stream",
          "text": [
            "Introduce un valor:4\n",
            "[0.14920653489193225, 0.17719369403983343, 0.9784667471926584, 0.734105187581245]\n"
          ],
          "name": "stdout"
        }
      ]
    },
    {
      "cell_type": "code",
      "metadata": {
        "colab": {
          "base_uri": "https://localhost:8080/"
        },
        "id": "3GJHiXd8MXCR",
        "outputId": "f60cde6b-3250-467a-81d1-303bfce77ea3"
      },
      "source": [
        "# Declaramos una varible y usamos return\r\n",
        "def divison():\r\n",
        "  a = 3\r\n",
        "  b = 5\r\n",
        "  c = a / b\r\n",
        "  return(c) # esto es lo que devuelve la función, puede ser una lista,tupla o un valor\r\n",
        "\r\n",
        "  # Para imprimir el resultado lo asignamos a una variable\r\n",
        "resultado = divison()\r\n",
        "print(\"El resultado de la division es\", resultado)"
      ],
      "execution_count": null,
      "outputs": [
        {
          "output_type": "stream",
          "text": [
            "El resultado de la division es 0.6\n"
          ],
          "name": "stdout"
        }
      ]
    },
    {
      "cell_type": "code",
      "metadata": {
        "colab": {
          "base_uri": "https://localhost:8080/"
        },
        "id": "jrQ4xjoIR4uW",
        "outputId": "acbe76a5-92d2-4b01-c37a-f557d7d57b1b"
      },
      "source": [
        "# Devolvemos un valor aletorio entre un rango de numeros\r\n",
        "\r\n",
        "from random import random \r\n",
        "\r\n",
        "def generaAleatorios(cantNumeros,ini,fin):\r\n",
        "  lista=[]\r\n",
        "  ind=0\r\n",
        "\r\n",
        "  while ind<cantNumeros:\r\n",
        "    val = ini + (fin-ini)* random()\r\n",
        "    lista.append(val)\r\n",
        "    ind+=1\r\n",
        "  return lista\r\n",
        "\r\n",
        "n = int(input(\"Introduce un valor:\"))\r\n",
        "reg=generaAleatorios(n,10,20)\r\n",
        "print(reg)"
      ],
      "execution_count": null,
      "outputs": [
        {
          "output_type": "stream",
          "text": [
            "Introduce un valor:5\n",
            "[10.906596932671032, 11.315106519882725, 13.297150354959095, 18.254184885797475, 19.85539421072415]\n"
          ],
          "name": "stdout"
        }
      ]
    },
    {
      "cell_type": "code",
      "metadata": {
        "colab": {
          "base_uri": "https://localhost:8080/"
        },
        "id": "YMIPOJmdS9pq",
        "outputId": "11fd6934-8ef0-4c98-c4da-8b89d806be13"
      },
      "source": [
        "def suma(a,b):\r\n",
        "  return a+b\r\n",
        "\r\n",
        "# Definimos la funcion principal\r\n",
        "if __name__ == \"__main__\":\r\n",
        "  res = suma(3,5)\r\n",
        "  print(res)"
      ],
      "execution_count": null,
      "outputs": [
        {
          "output_type": "stream",
          "text": [
            "8\n"
          ],
          "name": "stdout"
        }
      ]
    },
    {
      "cell_type": "code",
      "metadata": {
        "colab": {
          "base_uri": "https://localhost:8080/"
        },
        "id": "jXqyD4rtT8ot",
        "outputId": "4c52a63e-271f-4083-fcfa-d1ef6dbbb689"
      },
      "source": [
        "# Ejercicio definiendo una funcion main\r\n",
        "from random import random\r\n",
        "\r\n",
        "def generaAleatorios(cantNumeros,ini,fin):\r\n",
        "  lista=[]\r\n",
        "  ind=0\r\n",
        "\r\n",
        "  while ind<cantNumeros:\r\n",
        "    val = ini + (fin-ini)* random()\r\n",
        "    lista.append(val)\r\n",
        "    ind+=1\r\n",
        "  return lista\r\n",
        "\r\n",
        "# Definimos una funcion main\r\n",
        "def main():\r\n",
        "  n = int(input(\"Cuantos numeros deseas:\"))\r\n",
        "  ini = int(input(\"inicio de rango:\"))\r\n",
        "  fin = int(input(\"final de rango:\"))\r\n",
        "  print(generaAleatorios(n,ini,fin))\r\n",
        "\r\n",
        "#si existe la funcion main la llama, y desde la main se llama a las otras funciones\r\n",
        "if __name__ == \"__main__\":\r\n",
        "  main()"
      ],
      "execution_count": null,
      "outputs": [
        {
          "output_type": "stream",
          "text": [
            "Cuantos numeros deseas:3\n",
            "inicio de rango:5\n",
            "final de rango:10\n",
            "[8.115637449355026, 5.91432742865152, 5.061010346065994]\n"
          ],
          "name": "stdout"
        }
      ]
    }
  ]
}